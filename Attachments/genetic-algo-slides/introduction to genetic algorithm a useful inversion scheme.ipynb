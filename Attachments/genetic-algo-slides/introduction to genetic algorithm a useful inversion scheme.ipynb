{
 "cells": [
  {
   "cell_type": "markdown",
   "id": "hispanic-operation",
   "metadata": {},
   "source": [
    "##  What is Optimization?\n",
    "- “ The selection of a best element (with regard to some criteria) from some set of available alternatives” {Source: Wikipedia}\n",
    "- Picking the “best” option from several ways of accomplishing the same task.\n",
    "- We require the model which can give us the best result.\n",
    "\n",
    "<figure>\n",
    " <img width=\"815\" height=\"387\" style=\"zoom: 60%;\" src=\"https://raw.githubusercontent.com/earthinversion/earthinversion-images/main/images/intro-genetic-algorithm/best-route-finding-result.webp\" alt=\"finding best routes\">\n",
    "  <figcaption>Optimum Route</figcaption>\n",
    "</figure>"
   ]
  },
  {
   "cell_type": "markdown",
   "id": "enhanced-topic",
   "metadata": {},
   "source": [
    "##  Global vs. Local Optimization\n",
    "Consider a hypothetical multi-modal function:\n",
    "<p align=\"center\">\n",
    "  <img width=\"80%\" src=\"https://raw.githubusercontent.com/earthinversion/earthinversion-images/main/images/lsq_method/fig2.jpg\">\n",
    "</p>\n",
    "<p align=\"center\"><strong>Figure 1:</strong> Hypothetical objective functions with global and local minima.</p>"
   ]
  },
  {
   "cell_type": "markdown",
   "id": "swiss-greek",
   "metadata": {},
   "source": [
    "##  Genetic Algorithm\n",
    "- Developed by Prof. John Holland in 1975\n",
    "- Search algorithm that mimic the process of evolution\n",
    "- Based on the “Survival of the Fittest” concept (Darwinian Theory)\n",
    "- Successive generations are becoming better and better."
   ]
  }
 ],
 "metadata": {
  "kernelspec": {
   "display_name": "Python 3",
   "language": "python",
   "name": "python3"
  },
  "language_info": {
   "codemirror_mode": {
    "name": "ipython",
    "version": 3
   },
   "file_extension": ".py",
   "mimetype": "text/x-python",
   "name": "python",
   "nbconvert_exporter": "python",
   "pygments_lexer": "ipython3",
   "version": "3.7.10"
  }
 },
 "nbformat": 4,
 "nbformat_minor": 5
}
