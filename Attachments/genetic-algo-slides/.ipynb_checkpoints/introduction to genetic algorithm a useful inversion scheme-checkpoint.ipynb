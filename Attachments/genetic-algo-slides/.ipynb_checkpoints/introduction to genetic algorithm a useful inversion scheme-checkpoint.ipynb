{
 "cells": [
  {
   "cell_type": "markdown",
   "id": "russian-walter",
   "metadata": {},
   "source": [
    "##  What is Optimization?\n",
    "- “ The selection of a best element (with regard to some criteria) from some set of available alternatives” {Source: Wikipedia}\n",
    "- Picking the “best” option from several ways of accomplishing the same task.\n",
    "- We require the model which can give us the best result.\n",
    "\n",
    "<figure>\n",
    " <img width=\"815\" height=\"387\" style=\"zoom: 60%;\" src=\"https://raw.githubusercontent.com/earthinversion/earthinversion-images/main/images/intro-genetic-algorithm/best-route-finding-result.webp\" alt=\"finding best routes\">\n",
    "  <figcaption>Optimum Route</figcaption>\n",
    "</figure>"
   ]
  }
 ],
 "metadata": {
  "kernelspec": {
   "display_name": "Python 3",
   "language": "python",
   "name": "python3"
  },
  "language_info": {
   "codemirror_mode": {
    "name": "ipython",
    "version": 3
   },
   "file_extension": ".py",
   "mimetype": "text/x-python",
   "name": "python",
   "nbconvert_exporter": "python",
   "pygments_lexer": "ipython3",
   "version": "3.7.10"
  }
 },
 "nbformat": 4,
 "nbformat_minor": 5
}
